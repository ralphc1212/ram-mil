{
 "cells": [
  {
   "cell_type": "code",
   "execution_count": null,
   "metadata": {},
   "outputs": [],
   "source": [
    "import os\n",
    "import torch\n",
    "from glob import glob\n",
    "import heapq\n",
    "emb_files = glob(os.path.join('c16_patch_dir', '*.pt'))\n",
    "emb_files.sort()\n",
    "\n",
    "att_files = glob(os.path.join('c16_attention_path', '*.pt'))\n",
    "att_files.sort()\n",
    "\n",
    "for i in range(len(emb_files)):\n",
    "    name = os.path.basename(emb_files[i])\n",
    "    data = torch.load(emb_files[i])\n",
    "    att_a = torch.load(att_files[i], map_location=torch.device('cpu')).cpu().detach().squeeze()\n",
    "    choose_a = int(len(att_a)/5)\n",
    "    index_a = heapq.nlargest(choose_a, range(len(att_a)), att_a.__getitem__)\n",
    "    index_a = torch.tensor(index_a)\n",
    "    a = torch.index_select(data, 0, index_a)\n",
    "    print(a.shape)\n",
    "    print(name)\n",
    "    torch.save(a, os.path.join('c16_att_feature_20', name))"
   ]
  },
  {
   "cell_type": "code",
   "execution_count": null,
   "metadata": {},
   "outputs": [],
   "source": [
    "import os\n",
    "import torch\n",
    "from glob import glob\n",
    "import heapq\n",
    "emb_files = glob(os.path.join('c17_patch_dir', '*.pt'))\n",
    "emb_files.sort()\n",
    "\n",
    "att_files = glob(os.path.join('c17_attention_path', '*.pt'))\n",
    "att_files.sort()\n",
    "\n",
    "for i in range(len(emb_files)):\n",
    "    name = os.path.basename(emb_files[i])\n",
    "    data = torch.load(emb_files[i])\n",
    "    att_a = torch.load(att_files[i], map_location=torch.device('cpu')).cpu().detach().squeeze()\n",
    "    choose_a = int(len(att_a)/5)\n",
    "    index_a = heapq.nlargest(choose_a, range(len(att_a)), att_a.__getitem__)\n",
    "    index_a = torch.tensor(index_a)\n",
    "    a = torch.index_select(data, 0, index_a)\n",
    "    torch.save(a, os.path.join('c17_att_feature_20', name))"
   ]
  },
  {
   "cell_type": "code",
   "execution_count": null,
   "metadata": {},
   "outputs": [],
   "source": [
    "from glob import glob\n",
    "import os\n",
    "import torch\n",
    "import heapq\n",
    "\n",
    "\n",
    "att_files = glob(os.path.join('c16_attention_path', '*.pt'))\n",
    "att_files.sort()\n",
    "\n",
    "for i in range(len(att_files)):\n",
    "    name = os.path.basename(att_files[i])\n",
    "    att_a = torch.load(att_files[i], map_location=torch.device('cpu')).cpu().detach().squeeze()\n",
    "    choose_a = int(len(att_a)/5)\n",
    "    index_a = heapq.nlargest(choose_a, range(len(att_a)), att_a.__getitem__)\n",
    "    index_a = torch.tensor(index_a)\n",
    "    a = torch.index_select(att_a, 0, index_a)\n",
    "    torch.save(a, os.path.join('attention_20', name))"
   ]
  }
 ],
 "metadata": {
  "kernelspec": {
   "display_name": "base",
   "language": "python",
   "name": "python3"
  },
  "language_info": {
   "codemirror_mode": {
    "name": "ipython",
    "version": 3
   },
   "file_extension": ".py",
   "mimetype": "text/x-python",
   "name": "python",
   "nbconvert_exporter": "python",
   "pygments_lexer": "ipython3",
   "version": "3.10.9"
  },
  "orig_nbformat": 4
 },
 "nbformat": 4,
 "nbformat_minor": 2
}
