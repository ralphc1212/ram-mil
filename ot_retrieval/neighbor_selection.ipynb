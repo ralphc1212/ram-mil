{
 "cells": [
  {
   "cell_type": "code",
   "execution_count": 6,
   "metadata": {},
   "outputs": [],
   "source": [
    "import os\n",
    "import torch\n",
    "from glob import glob\n",
    "import heapq\n",
    "loss_matrix = torch.load('c16_c16_matrix.pt')"
   ]
  },
  {
   "cell_type": "code",
   "execution_count": null,
   "metadata": {},
   "outputs": [],
   "source": [
    "import csv\n",
    "from glob import glob\n",
    "import os\n",
    "\n",
    "import heapq\n",
    "import json\n",
    "with open('emb_c16_sort.txt', 'r') as f:\n",
    "    split_data = f.read()\n",
    "    emb_files = split_data.split('\\n')\n",
    "    print(len(emb_files))\n",
    "    \n",
    "index_list = []\n",
    "for i in range(10):\n",
    "    index_line = []\n",
    "    feat_path = os.path.join('slide_dir', str(i),'train')\n",
    "    files = glob(os.path.join(feat_path, '*.pt'))\n",
    "    for k in range(len(files)):\n",
    "        for j in range(len(emb_files)):\n",
    "            slide_id = os.path.basename(files[k])\n",
    "            if slide_id in emb_files[j]:\n",
    "                index_line.append(j)\n",
    "    \n",
    "    index_list.append(index_line)\n",
    "print(index_list)\n",
    "print(len(index_list))"
   ]
  },
  {
   "cell_type": "code",
   "execution_count": null,
   "metadata": {},
   "outputs": [],
   "source": [
    "print(loss_matrix)"
   ]
  },
  {
   "cell_type": "code",
   "execution_count": null,
   "metadata": {},
   "outputs": [],
   "source": [
    "for q in range(10):\n",
    "    idex = index_list[q]\n",
    "    print(len(idex))\n",
    "    loss_dict = {}\n",
    "    for i in range(len(emb_files)):\n",
    "        line_loss = loss_matrix[i]\n",
    "        line_loss_ori = loss_matrix[i].tolist()\n",
    "        line_loss = [line_loss[k] for k in idex]\n",
    "        # print(len(line_loss))\n",
    "        name = os.path.basename(emb_files[i])\n",
    "        low = heapq.nsmallest(4, line_loss)\n",
    "        index = []\n",
    "        for l in low:\n",
    "            index.append(line_loss_ori.index(l))\n",
    "        \n",
    "        neighbor = [emb_files[j] for j in index]\n",
    "        slide_id = name.replace('.pt','')\n",
    "        if name == neighbor[0]:\n",
    "            loss_dict[slide_id] = neighbor[1:4]\n",
    "        else:\n",
    "            loss_dict[slide_id] = neighbor[:3]\n",
    "        \n",
    "    print(loss_dict)\n",
    "    f = open('loss_matrix_1616_' + str(q) +'.json', 'w')\n",
    "    tmp = json.dumps(loss_dict)\n",
    "    f.write(tmp)"
   ]
  }
 ],
 "metadata": {
  "kernelspec": {
   "display_name": "base",
   "language": "python",
   "name": "python3"
  },
  "language_info": {
   "codemirror_mode": {
    "name": "ipython",
    "version": 3
   },
   "file_extension": ".py",
   "mimetype": "text/x-python",
   "name": "python",
   "nbconvert_exporter": "python",
   "pygments_lexer": "ipython3",
   "version": "3.10.9"
  },
  "orig_nbformat": 4
 },
 "nbformat": 4,
 "nbformat_minor": 2
}
